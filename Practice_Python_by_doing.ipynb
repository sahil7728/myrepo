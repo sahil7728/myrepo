{
 "cells": [
  {
   "cell_type": "markdown",
   "metadata": {},
   "source": [
    "# Learning coding in Python by doing\n",
    "\n",
    "## Python Basics Excercises"
   ]
  },
  {
   "cell_type": "markdown",
   "metadata": {},
   "source": [
    "###### Abbrevation used \n",
    "1. WAP - Write a program"
   ]
  },
  {
   "cell_type": "markdown",
   "metadata": {},
   "source": [
    "## Excercise 1. Using print() function"
   ]
  },
  {
   "cell_type": "code",
   "execution_count": 33,
   "metadata": {
    "collapsed": false
   },
   "outputs": [
    {
     "name": "stdout",
     "output_type": "stream",
     "text": [
      "Cube of 3 is : 27\n",
      "My name is\n",
      "\tRajesh\n",
      "\t\tSharma\n",
      "\b\t***** End of Poem *****                                      How are you?\n",
      "How are you?                                      \n",
      "**************************************How are you?\n",
      "                   How are you?                   \n"
     ]
    }
   ],
   "source": [
    "print(\"Cube of 3 is :\",3**3)\n",
    "print(\"My name is\\n\\tRajesh\\n\\t\\tSharma\",end=\"\\n\\b\\t***** End of Poem *****\")\n",
    "print('{:>50s}'.format('How are you?'))\n",
    "print('{:<50s}'.format('How are you?'))\n",
    "print('{:*>50s}'.format('How are you?'))\n",
    "print('{:^50s}'.format('How are you?'))"
   ]
  },
  {
   "cell_type": "markdown",
   "metadata": {},
   "source": [
    "## Excercise 2 : How to see current version of python"
   ]
  },
  {
   "cell_type": "code",
   "execution_count": 16,
   "metadata": {
    "collapsed": false,
    "scrolled": true
   },
   "outputs": [
    {
     "name": "stdout",
     "output_type": "stream",
     "text": [
      "Python version 3.6.0 |Anaconda 4.3.0 (64-bit)| (default, Dec 23 2016, 12:22:00) \n",
      "[GCC 4.4.7 20120313 (Red Hat 4.4.7-1)]\n",
      "Version Info sys.version_info(major=3, minor=6, micro=0, releaselevel='final', serial=0)\n"
     ]
    }
   ],
   "source": [
    "import sys\n",
    "print(\"Python version\",sys.version)\n",
    "print(\"Version Info\",sys.version_info)"
   ]
  },
  {
   "cell_type": "markdown",
   "metadata": {},
   "source": [
    "## Excercise 3 : WAP to see current data and time"
   ]
  },
  {
   "cell_type": "code",
   "execution_count": 32,
   "metadata": {
    "collapsed": false,
    "scrolled": true
   },
   "outputs": [
    {
     "name": "stdout",
     "output_type": "stream",
     "text": [
      "Current data and time:\n",
      " 2017/02/09 16:46:24\n"
     ]
    }
   ],
   "source": [
    "import datetime\n",
    "now = datetime.datetime.now()\n",
    "print(\"Current data and time:\\n\", now.strftime(\"%Y/%m/%d %H:%M:%S\"))"
   ]
  },
  {
   "cell_type": "markdown",
   "metadata": {},
   "source": [
    "## Excercise 4 : WAP to compute area of a circle"
   ]
  },
  {
   "cell_type": "code",
   "execution_count": 24,
   "metadata": {
    "collapsed": false,
    "scrolled": true
   },
   "outputs": [
    {
     "name": "stdout",
     "output_type": "stream",
     "text": [
      "Input Radius of circle: 6\n",
      "Area of circle is :  113.09733552923255\n"
     ]
    }
   ],
   "source": [
    "from math import pi\n",
    "r = float(input(\"Input Radius of circle: \"))\n",
    "area = (pi)*(r**2)\n",
    "print(\"Area of circle is : \",area)"
   ]
  },
  {
   "cell_type": "markdown",
   "metadata": {},
   "source": [
    "## Excercise 5 : WAP to accept comma seperated value as an input from user"
   ]
  },
  {
   "cell_type": "code",
   "execution_count": 25,
   "metadata": {
    "collapsed": false,
    "scrolled": false
   },
   "outputs": [
    {
     "name": "stdout",
     "output_type": "stream",
     "text": [
      "Kindly enter comma separated data :\n",
      "24 12 15\n",
      "List is :\t ['24 12 15']\n",
      "Tuple is :\t ('24 12 15',)\n"
     ]
    }
   ],
   "source": [
    "values = input(\"Kindly enter comma separated data :\\n\")\n",
    "list_value = values.split(\",\")\n",
    "tuple_value = tuple(list_value)\n",
    "print(\"List is :\\t\",list_value)\n",
    "print(\"Tuple is :\\t\",tuple_value)"
   ]
  },
  {
   "cell_type": "markdown",
   "metadata": {},
   "source": [
    "## Excercise 6 : WAP which accepts filename and return file extension "
   ]
  },
  {
   "cell_type": "code",
   "execution_count": 37,
   "metadata": {
    "collapsed": false,
    "scrolled": true
   },
   "outputs": [
    {
     "name": "stdout",
     "output_type": "stream",
     "text": [
      "Enter file name\n",
      "\n",
      "> hello_world.java\n",
      "Extension of file is : java\n"
     ]
    }
   ],
   "source": [
    "print(\"Enter file name\\n\")\n",
    "file_name = input(\"> \")\n",
    "split_name = file_name.split(\".\")\n",
    "print(\"Extension of file is :\" , split_name[1])"
   ]
  },
  {
   "cell_type": "markdown",
   "metadata": {},
   "source": [
    "## Excercise 7 : WAP to accept first and last name of user and print them in reverse order seperated by space."
   ]
  },
  {
   "cell_type": "code",
   "execution_count": 30,
   "metadata": {
    "collapsed": false,
    "scrolled": true
   },
   "outputs": [
    {
     "name": "stdout",
     "output_type": "stream",
     "text": [
      "Enter First and Last name(seperated by comma)\n",
      "> Rajesh,Sharma\n",
      "Reversed comma seperated name is :\n",
      " a\n"
     ]
    }
   ],
   "source": [
    "print(\"Enter First and Last name(seperated by comma)\")\n",
    "user_input = input(\"> \")\n",
    "rev_input = user_input[1:5:5]\n",
    "print(\"Reversed comma seperated name is :\\n\",rev_input)\n",
    "#user_name = rev_input.split(\",\")\n",
    "#print(\"Reversed space seperated name is :\\n\",user_name[0],user_name[1])"
   ]
  },
  {
   "cell_type": "markdown",
   "metadata": {},
   "source": [
    "## Excercise 8 : WAP to display first and last colors from any list."
   ]
  },
  {
   "cell_type": "code",
   "execution_count": 66,
   "metadata": {
    "collapsed": false,
    "scrolled": true
   },
   "outputs": [
    {
     "name": "stdout",
     "output_type": "stream",
     "text": [
      "Kindly enter colors in a list seperated by space\n",
      "> RED BLUE GREEN WHITE YELLO BROWN\n",
      "Input is :\n",
      " RED BLUE GREEN WHITE YELLO BROWN\n",
      "First and Last colors are :\n",
      " RED BROWN\n"
     ]
    }
   ],
   "source": [
    "colors = []\n",
    "X = input(\"Kindly enter colors in a list seperated by space\\n> \")\n",
    "print(\"Input is :\\n\",X)\n",
    "data = X.split(\" \")\n",
    "for item in data:\n",
    "    value = colors.append(item)\n",
    "    \n",
    "print(\"First and Last colors are :\\n\",colors[0],colors[-1])"
   ]
  },
  {
   "cell_type": "markdown",
   "metadata": {},
   "source": [
    "## Excercise 9 : WAP to print last name then middle name then first name of user."
   ]
  },
  {
   "cell_type": "code",
   "execution_count": 68,
   "metadata": {
    "collapsed": false
   },
   "outputs": [
    {
     "name": "stdout",
     "output_type": "stream",
     "text": [
      "Enter user name seperated by a comma\n",
      " > Saurav,Chandidas,Gangully\n",
      "Reversed name is \n",
      " Gangully Chandidas Saurav\n"
     ]
    }
   ],
   "source": [
    "X = input(\"Enter user name seperated by a comma\\n > \")\n",
    "input_name = X.split(\",\")\n",
    "print(\"Reversed name is \\n\",input_name[-1],input_name[1],input_name[0])"
   ]
  },
  {
   "cell_type": "markdown",
   "metadata": {},
   "source": [
    "## Excercise 10 : WAP to display exam schedule date."
   ]
  },
  {
   "cell_type": "code",
   "execution_count": 73,
   "metadata": {
    "collapsed": false,
    "scrolled": true
   },
   "outputs": [
    {
     "name": "stdout",
     "output_type": "stream",
     "text": [
      "Enter date in DD/MM/YYYY format\n",
      "> 14/09/2017\n",
      "Schedule date in MM/DD/YY\n",
      " 09/14/17\n"
     ]
    }
   ],
   "source": [
    "X = input(\"Enter date in DD/MM/YYYY format\\n> \")\n",
    "dt = tuple(X.split(\"/\"))\n",
    "print(\"Schedule date in MM/DD/YY\\n\",dt[1]+\"/\"+dt[0]+\"/\"+dt[-1][2]+dt[-1][3])"
   ]
  },
  {
   "cell_type": "markdown",
   "metadata": {},
   "source": [
    "## Excercise 11 : WAP to display syntax and description of python inbuilt function."
   ]
  },
  {
   "cell_type": "code",
   "execution_count": 23,
   "metadata": {
    "collapsed": false
   },
   "outputs": [
    {
     "name": "stdout",
     "output_type": "stream",
     "text": [
      "reversed(sequence) -> reverse iterator over values of the sequence\n",
      "\n",
      "Return a reverse iterator\n"
     ]
    }
   ],
   "source": [
    "print(reversed.__doc__)"
   ]
  },
  {
   "cell_type": "markdown",
   "metadata": {},
   "source": [
    "## Excercise 12 : WAP to display calendar of a month of any year."
   ]
  },
  {
   "cell_type": "code",
   "execution_count": 4,
   "metadata": {
    "collapsed": false
   },
   "outputs": [
    {
     "name": "stdout",
     "output_type": "stream",
     "text": [
      "Enter year > 2017\n",
      "Enter month > 02\n",
      "   February 2017\n",
      "Mo Tu We Th Fr Sa Su\n",
      "       1  2  3  4  5\n",
      " 6  7  8  9 10 11 12\n",
      "13 14 15 16 17 18 19\n",
      "20 21 22 23 24 25 26\n",
      "27 28\n",
      "\n"
     ]
    }
   ],
   "source": [
    "import calendar\n",
    "yr = int(input(\"Enter year > \"))\n",
    "mon = int(input(\"Enter month > \"))\n",
    "print(calendar.month(yr,mon))"
   ]
  },
  {
   "cell_type": "markdown",
   "metadata": {},
   "source": [
    "##  Excercise 13 : WAP to calculate number of days b/w two dates."
   ]
  },
  {
   "cell_type": "code",
   "execution_count": 17,
   "metadata": {
    "collapsed": false
   },
   "outputs": [
    {
     "name": "stdout",
     "output_type": "stream",
     "text": [
      "Enter from date in DD/MM/YY\n",
      ">10/12/17\n",
      "Enter to date in DD/MM/YY\n",
      ">20/12/17\n",
      "10\n"
     ]
    }
   ],
   "source": [
    "from datetime import date\n",
    "X = input(\"Enter from date in DD/MM/YY\\n>\")\n",
    "Y = input(\"Enter to date in DD/MM/YY\\n>\")\n",
    "value_x = X.split(\"/\")\n",
    "value_y = Y.split(\"/\")\n",
    "from_date = date(int(value_x[-1]),int(value_x[1]),int(value_x[0]))\n",
    "to_date = date(int(value_y[-1]),int(value_y[1]),int(value_y[0]))\n",
    "diff = to_date - from_date\n",
    "print(diff.days)"
   ]
  },
  {
   "cell_type": "markdown",
   "metadata": {},
   "source": [
    "## Excercise 14 : WAP to calculate volume of sphere and if volume is greater than 50 then difference is radius else difference is radius + 20."
   ]
  },
  {
   "cell_type": "code",
   "execution_count": 19,
   "metadata": {
    "collapsed": false
   },
   "outputs": [
    {
     "name": "stdout",
     "output_type": "stream",
     "text": [
      "Enter radius > 2\n",
      "Volume is less than 50\n",
      "Actual diff is :  22\n"
     ]
    }
   ],
   "source": [
    "from math import pi\n",
    "X = int(input(\"Enter radius > \"))\n",
    "vol = (pi)*(X**3)\n",
    "if vol >= 50:\n",
    "    print(\"Volume of sphere is : \",vol)\n",
    "    difference = X\n",
    "    print(\"Difference : \",difference)\n",
    "else:\n",
    "    print(\"Volume is less than 50\")\n",
    "    difference = X + 20\n",
    "    print(\"Actual diff is : \",difference)"
   ]
  },
  {
   "cell_type": "markdown",
   "metadata": {},
   "source": [
    "## Excercise 15 : WAP to test whether a number is within 100 of 1000 or 2000."
   ]
  },
  {
   "cell_type": "code",
   "execution_count": 22,
   "metadata": {
    "collapsed": false,
    "scrolled": true
   },
   "outputs": [
    {
     "name": "stdout",
     "output_type": "stream",
     "text": [
      "Number is \n",
      ">1200\n",
      "False\n"
     ]
    }
   ],
   "source": [
    "X = int(input(\"Number is \\n>\"))\n",
    "def thousands(X):\n",
    "    return (abs(1000-X) <= 100) or (abs(2000-X) <= 100)\n",
    "\n",
    "print(thousands(X))"
   ]
  },
  {
   "cell_type": "markdown",
   "metadata": {},
   "source": [
    "## Excercise 16 : WAP to get a new string from a given string where \"Is\" has been added to the front. If the given string already begins with \"Is\" then return the string unchanged."
   ]
  },
  {
   "cell_type": "code",
   "execution_count": 35,
   "metadata": {
    "collapsed": false
   },
   "outputs": [
    {
     "name": "stdout",
     "output_type": "stream",
     "text": [
      "Enter the string \n",
      " >rajesh\n",
      "XXrajesh\n"
     ]
    }
   ],
   "source": [
    "X = input(\"Enter the string \\n >\")\n",
    "ls = X[:2]\n",
    "if ls == 'ls':\n",
    "    print(X)\n",
    "else:\n",
    "    print('XX'+X)"
   ]
  }
 ],
 "metadata": {
  "kernelspec": {
   "display_name": "Python 3",
   "language": "python",
   "name": "python3"
  }
 },
 "nbformat": 4,
 "nbformat_minor": 2
}
